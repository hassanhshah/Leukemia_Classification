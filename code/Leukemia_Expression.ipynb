{
 "cells": [
  {
   "cell_type": "markdown",
   "id": "c015c594",
   "metadata": {},
   "source": [
    "# Leukemia Multi-Class Classification Based on Gene Expression Levels"
   ]
  },
  {
   "cell_type": "markdown",
   "id": "404d380c",
   "metadata": {},
   "source": [
    "For this project, I will be analyzing a leukemia microarray dataset containing 64 samples of 22284 gene expression levels and the associated type of leukemia, which is the output. There are five different classes of Leukemia in the output column. The primary goal of this exercise is to fit different statistical learning models to this dataset in order to predict leukemia type based on gene expression levels. This dataset comes from the Curated Microarray Database\n",
    "(CuMiDa), a repository containing 78 cancer microarray datasets that are curated for the purpose of testing various machine learning methods. \n",
    "\n",
    "Since the output in this dataset contains five different classes, another aspect of this project will be using various preprocessing methods to deal with multi-class classification. Specifically, we will examine one vs. rest, one-hot encoding, and label encoding methods. Different learning methods require different multi-class procceses, and we will examine a couple learning methods for each. \n",
    "\n",
    "Finally, for the last three models, we will be examining the importance each model gives to different genes to see which genes appear to be weighted more significantly than others. To do this, we will look at the top ten most significant genes for each model. At the end, we will be able to determine if a few genes play the largest role or if each model uses vastly different features. "
   ]
  },
  {
   "cell_type": "markdown",
   "id": "04abeb98",
   "metadata": {},
   "source": [
    "## Imports"
   ]
  },
  {
   "cell_type": "code",
   "execution_count": 14,
   "id": "2fd526b0",
   "metadata": {},
   "outputs": [],
   "source": [
    "import numpy as np\n",
    "from numpy import where\n",
    "import pandas as pd\n",
    "import matplotlib.pyplot as plt\n",
    "import seaborn as sns\n",
    "from sklearn.model_selection import train_test_split, GridSearchCV\n",
    "from sklearn import preprocessing\n",
    "from sklearn.dummy import DummyClassifier\n",
    "from sklearn.linear_model import LogisticRegression\n",
    "from sklearn.multiclass import OneVsRestClassifier\n",
    "from itertools import chain\n",
    "from sklearn.metrics import confusion_matrix,accuracy_score,roc_curve,roc_auc_score,classification_report\n",
    "from sklearn.preprocessing import LabelEncoder,OneHotEncoder\n",
    "from sklearn.svm import SVC, LinearSVC\n",
    "from sklearn.neighbors import KNeighborsClassifier\n",
    "from sklearn.naive_bayes import MultinomialNB\n",
    "from sklearn.tree import DecisionTreeClassifier\n",
    "from sklearn.ensemble import RandomForestClassifier\n",
    "import xgboost as xgb\n",
    "from xgboost import XGBClassifier"
   ]
  },
  {
   "cell_type": "markdown",
   "id": "b8026a25",
   "metadata": {},
   "source": [
    "Reading in datafile from: https://sbcb.inf.ufrgs.br/cumida"
   ]
  },
  {
   "cell_type": "markdown",
   "id": "2870e3c6",
   "metadata": {},
   "source": [
    "## Setup"
   ]
  },
  {
   "cell_type": "code",
   "execution_count": 15,
   "id": "bf8385f9",
   "metadata": {
    "scrolled": true
   },
   "outputs": [
    {
     "data": {
      "text/html": [
       "<div>\n",
       "<style scoped>\n",
       "    .dataframe tbody tr th:only-of-type {\n",
       "        vertical-align: middle;\n",
       "    }\n",
       "\n",
       "    .dataframe tbody tr th {\n",
       "        vertical-align: top;\n",
       "    }\n",
       "\n",
       "    .dataframe thead th {\n",
       "        text-align: right;\n",
       "    }\n",
       "</style>\n",
       "<table border=\"1\" class=\"dataframe\">\n",
       "  <thead>\n",
       "    <tr style=\"text-align: right;\">\n",
       "      <th></th>\n",
       "      <th>samples</th>\n",
       "      <th>type</th>\n",
       "      <th>1007_s_at</th>\n",
       "      <th>1053_at</th>\n",
       "      <th>117_at</th>\n",
       "      <th>121_at</th>\n",
       "      <th>1255_g_at</th>\n",
       "      <th>1294_at</th>\n",
       "      <th>1316_at</th>\n",
       "      <th>1320_at</th>\n",
       "      <th>...</th>\n",
       "      <th>AFFX-r2-Hs28SrRNA-5_at</th>\n",
       "      <th>AFFX-r2-Hs28SrRNA-M_at</th>\n",
       "      <th>AFFX-r2-P1-cre-3_at</th>\n",
       "      <th>AFFX-r2-P1-cre-5_at</th>\n",
       "      <th>AFFX-ThrX-3_at</th>\n",
       "      <th>AFFX-ThrX-5_at</th>\n",
       "      <th>AFFX-ThrX-M_at</th>\n",
       "      <th>AFFX-TrpnX-3_at</th>\n",
       "      <th>AFFX-TrpnX-5_at</th>\n",
       "      <th>AFFX-TrpnX-M_at</th>\n",
       "    </tr>\n",
       "  </thead>\n",
       "  <tbody>\n",
       "    <tr>\n",
       "      <th>0</th>\n",
       "      <td>1</td>\n",
       "      <td>Bone_Marrow_CD34</td>\n",
       "      <td>7.745245</td>\n",
       "      <td>7.811210</td>\n",
       "      <td>6.477916</td>\n",
       "      <td>8.841506</td>\n",
       "      <td>4.546941</td>\n",
       "      <td>7.957714</td>\n",
       "      <td>5.344999</td>\n",
       "      <td>4.673364</td>\n",
       "      <td>...</td>\n",
       "      <td>5.058849</td>\n",
       "      <td>6.810004</td>\n",
       "      <td>12.800060</td>\n",
       "      <td>12.718612</td>\n",
       "      <td>5.391512</td>\n",
       "      <td>4.666166</td>\n",
       "      <td>3.974759</td>\n",
       "      <td>3.656693</td>\n",
       "      <td>4.160622</td>\n",
       "      <td>4.139249</td>\n",
       "    </tr>\n",
       "    <tr>\n",
       "      <th>1</th>\n",
       "      <td>12</td>\n",
       "      <td>Bone_Marrow_CD34</td>\n",
       "      <td>8.087252</td>\n",
       "      <td>7.240673</td>\n",
       "      <td>8.584648</td>\n",
       "      <td>8.983571</td>\n",
       "      <td>4.548934</td>\n",
       "      <td>8.011652</td>\n",
       "      <td>5.579647</td>\n",
       "      <td>4.828184</td>\n",
       "      <td>...</td>\n",
       "      <td>4.436153</td>\n",
       "      <td>6.751471</td>\n",
       "      <td>12.472706</td>\n",
       "      <td>12.333593</td>\n",
       "      <td>5.379738</td>\n",
       "      <td>4.656786</td>\n",
       "      <td>4.188348</td>\n",
       "      <td>3.792535</td>\n",
       "      <td>4.204414</td>\n",
       "      <td>4.122700</td>\n",
       "    </tr>\n",
       "    <tr>\n",
       "      <th>2</th>\n",
       "      <td>13</td>\n",
       "      <td>Bone_Marrow_CD34</td>\n",
       "      <td>7.792056</td>\n",
       "      <td>7.549368</td>\n",
       "      <td>11.053504</td>\n",
       "      <td>8.909703</td>\n",
       "      <td>4.549328</td>\n",
       "      <td>8.237099</td>\n",
       "      <td>5.406489</td>\n",
       "      <td>4.615572</td>\n",
       "      <td>...</td>\n",
       "      <td>4.392061</td>\n",
       "      <td>6.086295</td>\n",
       "      <td>12.637384</td>\n",
       "      <td>12.499038</td>\n",
       "      <td>5.316604</td>\n",
       "      <td>4.600566</td>\n",
       "      <td>3.845561</td>\n",
       "      <td>3.635715</td>\n",
       "      <td>4.174199</td>\n",
       "      <td>4.067152</td>\n",
       "    </tr>\n",
       "    <tr>\n",
       "      <th>3</th>\n",
       "      <td>14</td>\n",
       "      <td>Bone_Marrow_CD34</td>\n",
       "      <td>7.767265</td>\n",
       "      <td>7.094460</td>\n",
       "      <td>11.816433</td>\n",
       "      <td>8.994654</td>\n",
       "      <td>4.697018</td>\n",
       "      <td>8.283412</td>\n",
       "      <td>5.582195</td>\n",
       "      <td>4.903684</td>\n",
       "      <td>...</td>\n",
       "      <td>4.633334</td>\n",
       "      <td>6.375991</td>\n",
       "      <td>12.903630</td>\n",
       "      <td>12.871454</td>\n",
       "      <td>5.179951</td>\n",
       "      <td>4.641952</td>\n",
       "      <td>3.991634</td>\n",
       "      <td>3.704587</td>\n",
       "      <td>4.149938</td>\n",
       "      <td>3.910150</td>\n",
       "    </tr>\n",
       "    <tr>\n",
       "      <th>4</th>\n",
       "      <td>15</td>\n",
       "      <td>Bone_Marrow_CD34</td>\n",
       "      <td>8.010117</td>\n",
       "      <td>7.405281</td>\n",
       "      <td>6.656049</td>\n",
       "      <td>9.050682</td>\n",
       "      <td>4.514986</td>\n",
       "      <td>8.377046</td>\n",
       "      <td>5.493713</td>\n",
       "      <td>4.860754</td>\n",
       "      <td>...</td>\n",
       "      <td>5.305192</td>\n",
       "      <td>6.700453</td>\n",
       "      <td>12.949352</td>\n",
       "      <td>12.782515</td>\n",
       "      <td>5.341689</td>\n",
       "      <td>4.560315</td>\n",
       "      <td>3.887020</td>\n",
       "      <td>3.629853</td>\n",
       "      <td>4.127513</td>\n",
       "      <td>4.004316</td>\n",
       "    </tr>\n",
       "  </tbody>\n",
       "</table>\n",
       "<p>5 rows × 22285 columns</p>\n",
       "</div>"
      ],
      "text/plain": [
       "   samples              type  1007_s_at   1053_at     117_at    121_at  \\\n",
       "0        1  Bone_Marrow_CD34   7.745245  7.811210   6.477916  8.841506   \n",
       "1       12  Bone_Marrow_CD34   8.087252  7.240673   8.584648  8.983571   \n",
       "2       13  Bone_Marrow_CD34   7.792056  7.549368  11.053504  8.909703   \n",
       "3       14  Bone_Marrow_CD34   7.767265  7.094460  11.816433  8.994654   \n",
       "4       15  Bone_Marrow_CD34   8.010117  7.405281   6.656049  9.050682   \n",
       "\n",
       "   1255_g_at   1294_at   1316_at   1320_at  ...  AFFX-r2-Hs28SrRNA-5_at  \\\n",
       "0   4.546941  7.957714  5.344999  4.673364  ...                5.058849   \n",
       "1   4.548934  8.011652  5.579647  4.828184  ...                4.436153   \n",
       "2   4.549328  8.237099  5.406489  4.615572  ...                4.392061   \n",
       "3   4.697018  8.283412  5.582195  4.903684  ...                4.633334   \n",
       "4   4.514986  8.377046  5.493713  4.860754  ...                5.305192   \n",
       "\n",
       "   AFFX-r2-Hs28SrRNA-M_at  AFFX-r2-P1-cre-3_at  AFFX-r2-P1-cre-5_at  \\\n",
       "0                6.810004            12.800060            12.718612   \n",
       "1                6.751471            12.472706            12.333593   \n",
       "2                6.086295            12.637384            12.499038   \n",
       "3                6.375991            12.903630            12.871454   \n",
       "4                6.700453            12.949352            12.782515   \n",
       "\n",
       "   AFFX-ThrX-3_at  AFFX-ThrX-5_at  AFFX-ThrX-M_at  AFFX-TrpnX-3_at  \\\n",
       "0        5.391512        4.666166        3.974759         3.656693   \n",
       "1        5.379738        4.656786        4.188348         3.792535   \n",
       "2        5.316604        4.600566        3.845561         3.635715   \n",
       "3        5.179951        4.641952        3.991634         3.704587   \n",
       "4        5.341689        4.560315        3.887020         3.629853   \n",
       "\n",
       "   AFFX-TrpnX-5_at  AFFX-TrpnX-M_at  \n",
       "0         4.160622         4.139249  \n",
       "1         4.204414         4.122700  \n",
       "2         4.174199         4.067152  \n",
       "3         4.149938         3.910150  \n",
       "4         4.127513         4.004316  \n",
       "\n",
       "[5 rows x 22285 columns]"
      ]
     },
     "execution_count": 15,
     "metadata": {},
     "output_type": "execute_result"
    }
   ],
   "source": [
    "df = pd.read_csv('../data/Leukemia_GSE9476.csv')\n",
    "df.head()"
   ]
  },
  {
   "cell_type": "code",
   "execution_count": 16,
   "id": "36c546f6",
   "metadata": {},
   "outputs": [
    {
     "data": {
      "text/plain": [
       "(64, 22285)"
      ]
     },
     "execution_count": 16,
     "metadata": {},
     "output_type": "execute_result"
    }
   ],
   "source": [
    "df.shape"
   ]
  },
  {
   "cell_type": "markdown",
   "id": "397aae5d",
   "metadata": {},
   "source": [
    "As we can see, there are 64 rows (samples) and 22285 columns (22284 gene expression levels and the leukemia type)"
   ]
  },
  {
   "cell_type": "code",
   "execution_count": 17,
   "id": "7dac4223",
   "metadata": {
    "scrolled": true
   },
   "outputs": [
    {
     "name": "stdout",
     "output_type": "stream",
     "text": [
      "Number of Null Values: 0\n"
     ]
    }
   ],
   "source": [
    "print('Number of Null Values:', sum(df.isnull().sum()))"
   ]
  },
  {
   "cell_type": "markdown",
   "id": "25a331c4",
   "metadata": {},
   "source": [
    "Asessing distributions of features:"
   ]
  },
  {
   "cell_type": "code",
   "execution_count": 18,
   "id": "e620c02d",
   "metadata": {},
   "outputs": [
    {
     "data": {
      "text/html": [
       "<div>\n",
       "<style scoped>\n",
       "    .dataframe tbody tr th:only-of-type {\n",
       "        vertical-align: middle;\n",
       "    }\n",
       "\n",
       "    .dataframe tbody tr th {\n",
       "        vertical-align: top;\n",
       "    }\n",
       "\n",
       "    .dataframe thead th {\n",
       "        text-align: right;\n",
       "    }\n",
       "</style>\n",
       "<table border=\"1\" class=\"dataframe\">\n",
       "  <thead>\n",
       "    <tr style=\"text-align: right;\">\n",
       "      <th></th>\n",
       "      <th>samples</th>\n",
       "      <th>1007_s_at</th>\n",
       "      <th>1053_at</th>\n",
       "      <th>117_at</th>\n",
       "      <th>121_at</th>\n",
       "      <th>1255_g_at</th>\n",
       "      <th>1294_at</th>\n",
       "      <th>1316_at</th>\n",
       "      <th>1320_at</th>\n",
       "      <th>1405_i_at</th>\n",
       "      <th>...</th>\n",
       "      <th>AFFX-r2-Hs28SrRNA-5_at</th>\n",
       "      <th>AFFX-r2-Hs28SrRNA-M_at</th>\n",
       "      <th>AFFX-r2-P1-cre-3_at</th>\n",
       "      <th>AFFX-r2-P1-cre-5_at</th>\n",
       "      <th>AFFX-ThrX-3_at</th>\n",
       "      <th>AFFX-ThrX-5_at</th>\n",
       "      <th>AFFX-ThrX-M_at</th>\n",
       "      <th>AFFX-TrpnX-3_at</th>\n",
       "      <th>AFFX-TrpnX-5_at</th>\n",
       "      <th>AFFX-TrpnX-M_at</th>\n",
       "    </tr>\n",
       "  </thead>\n",
       "  <tbody>\n",
       "    <tr>\n",
       "      <th>count</th>\n",
       "      <td>64.000000</td>\n",
       "      <td>64.000000</td>\n",
       "      <td>64.000000</td>\n",
       "      <td>64.000000</td>\n",
       "      <td>64.000000</td>\n",
       "      <td>64.000000</td>\n",
       "      <td>64.000000</td>\n",
       "      <td>64.000000</td>\n",
       "      <td>64.000000</td>\n",
       "      <td>64.000000</td>\n",
       "      <td>...</td>\n",
       "      <td>64.000000</td>\n",
       "      <td>64.000000</td>\n",
       "      <td>64.000000</td>\n",
       "      <td>64.000000</td>\n",
       "      <td>64.000000</td>\n",
       "      <td>64.000000</td>\n",
       "      <td>64.000000</td>\n",
       "      <td>64.000000</td>\n",
       "      <td>64.000000</td>\n",
       "      <td>64.000000</td>\n",
       "    </tr>\n",
       "    <tr>\n",
       "      <th>mean</th>\n",
       "      <td>32.500000</td>\n",
       "      <td>7.819371</td>\n",
       "      <td>6.750455</td>\n",
       "      <td>7.475593</td>\n",
       "      <td>8.898925</td>\n",
       "      <td>4.513390</td>\n",
       "      <td>8.282604</td>\n",
       "      <td>5.544487</td>\n",
       "      <td>4.710160</td>\n",
       "      <td>6.679214</td>\n",
       "      <td>...</td>\n",
       "      <td>4.836931</td>\n",
       "      <td>6.612299</td>\n",
       "      <td>13.018089</td>\n",
       "      <td>12.864839</td>\n",
       "      <td>5.308956</td>\n",
       "      <td>4.584877</td>\n",
       "      <td>3.943064</td>\n",
       "      <td>3.637447</td>\n",
       "      <td>4.141114</td>\n",
       "      <td>4.116237</td>\n",
       "    </tr>\n",
       "    <tr>\n",
       "      <th>std</th>\n",
       "      <td>18.618987</td>\n",
       "      <td>0.169830</td>\n",
       "      <td>0.375415</td>\n",
       "      <td>1.308313</td>\n",
       "      <td>0.208462</td>\n",
       "      <td>0.096836</td>\n",
       "      <td>0.408621</td>\n",
       "      <td>0.140410</td>\n",
       "      <td>0.135293</td>\n",
       "      <td>1.583527</td>\n",
       "      <td>...</td>\n",
       "      <td>0.287327</td>\n",
       "      <td>0.315608</td>\n",
       "      <td>0.319913</td>\n",
       "      <td>0.316175</td>\n",
       "      <td>0.126512</td>\n",
       "      <td>0.107208</td>\n",
       "      <td>0.088848</td>\n",
       "      <td>0.070432</td>\n",
       "      <td>0.078673</td>\n",
       "      <td>0.107609</td>\n",
       "    </tr>\n",
       "    <tr>\n",
       "      <th>min</th>\n",
       "      <td>1.000000</td>\n",
       "      <td>7.278076</td>\n",
       "      <td>6.103252</td>\n",
       "      <td>6.296965</td>\n",
       "      <td>8.486306</td>\n",
       "      <td>4.351181</td>\n",
       "      <td>7.331400</td>\n",
       "      <td>5.295685</td>\n",
       "      <td>4.352735</td>\n",
       "      <td>4.543998</td>\n",
       "      <td>...</td>\n",
       "      <td>4.250235</td>\n",
       "      <td>5.746084</td>\n",
       "      <td>12.283312</td>\n",
       "      <td>12.170986</td>\n",
       "      <td>5.037287</td>\n",
       "      <td>4.401563</td>\n",
       "      <td>3.803410</td>\n",
       "      <td>3.517559</td>\n",
       "      <td>4.002604</td>\n",
       "      <td>3.910150</td>\n",
       "    </tr>\n",
       "    <tr>\n",
       "      <th>25%</th>\n",
       "      <td>16.750000</td>\n",
       "      <td>7.701161</td>\n",
       "      <td>6.503295</td>\n",
       "      <td>6.640182</td>\n",
       "      <td>8.765333</td>\n",
       "      <td>4.449243</td>\n",
       "      <td>8.015841</td>\n",
       "      <td>5.454499</td>\n",
       "      <td>4.623445</td>\n",
       "      <td>5.211335</td>\n",
       "      <td>...</td>\n",
       "      <td>4.622061</td>\n",
       "      <td>6.407176</td>\n",
       "      <td>12.796575</td>\n",
       "      <td>12.655307</td>\n",
       "      <td>5.231369</td>\n",
       "      <td>4.518736</td>\n",
       "      <td>3.883592</td>\n",
       "      <td>3.592435</td>\n",
       "      <td>4.095459</td>\n",
       "      <td>4.058131</td>\n",
       "    </tr>\n",
       "    <tr>\n",
       "      <th>50%</th>\n",
       "      <td>32.500000</td>\n",
       "      <td>7.814811</td>\n",
       "      <td>6.724425</td>\n",
       "      <td>6.794160</td>\n",
       "      <td>8.871007</td>\n",
       "      <td>4.509827</td>\n",
       "      <td>8.230027</td>\n",
       "      <td>5.547004</td>\n",
       "      <td>4.674101</td>\n",
       "      <td>6.532190</td>\n",
       "      <td>...</td>\n",
       "      <td>4.879685</td>\n",
       "      <td>6.596552</td>\n",
       "      <td>12.992452</td>\n",
       "      <td>12.827850</td>\n",
       "      <td>5.281801</td>\n",
       "      <td>4.572218</td>\n",
       "      <td>3.931645</td>\n",
       "      <td>3.635070</td>\n",
       "      <td>4.133191</td>\n",
       "      <td>4.103236</td>\n",
       "    </tr>\n",
       "    <tr>\n",
       "      <th>75%</th>\n",
       "      <td>48.250000</td>\n",
       "      <td>7.960393</td>\n",
       "      <td>6.929274</td>\n",
       "      <td>7.888134</td>\n",
       "      <td>9.023418</td>\n",
       "      <td>4.567569</td>\n",
       "      <td>8.515215</td>\n",
       "      <td>5.605790</td>\n",
       "      <td>4.789000</td>\n",
       "      <td>8.278395</td>\n",
       "      <td>...</td>\n",
       "      <td>5.060132</td>\n",
       "      <td>6.826579</td>\n",
       "      <td>13.248937</td>\n",
       "      <td>13.060069</td>\n",
       "      <td>5.392658</td>\n",
       "      <td>4.626728</td>\n",
       "      <td>3.992335</td>\n",
       "      <td>3.665841</td>\n",
       "      <td>4.176025</td>\n",
       "      <td>4.159044</td>\n",
       "    </tr>\n",
       "    <tr>\n",
       "      <th>max</th>\n",
       "      <td>64.000000</td>\n",
       "      <td>8.167701</td>\n",
       "      <td>7.962858</td>\n",
       "      <td>11.816433</td>\n",
       "      <td>9.458264</td>\n",
       "      <td>4.754915</td>\n",
       "      <td>9.595609</td>\n",
       "      <td>5.977147</td>\n",
       "      <td>5.193624</td>\n",
       "      <td>9.985429</td>\n",
       "      <td>...</td>\n",
       "      <td>5.457926</td>\n",
       "      <td>7.252390</td>\n",
       "      <td>13.863304</td>\n",
       "      <td>13.704673</td>\n",
       "      <td>5.732145</td>\n",
       "      <td>5.047613</td>\n",
       "      <td>4.188348</td>\n",
       "      <td>3.951433</td>\n",
       "      <td>4.403250</td>\n",
       "      <td>4.556003</td>\n",
       "    </tr>\n",
       "  </tbody>\n",
       "</table>\n",
       "<p>8 rows × 22284 columns</p>\n",
       "</div>"
      ],
      "text/plain": [
       "         samples  1007_s_at    1053_at     117_at     121_at  1255_g_at  \\\n",
       "count  64.000000  64.000000  64.000000  64.000000  64.000000  64.000000   \n",
       "mean   32.500000   7.819371   6.750455   7.475593   8.898925   4.513390   \n",
       "std    18.618987   0.169830   0.375415   1.308313   0.208462   0.096836   \n",
       "min     1.000000   7.278076   6.103252   6.296965   8.486306   4.351181   \n",
       "25%    16.750000   7.701161   6.503295   6.640182   8.765333   4.449243   \n",
       "50%    32.500000   7.814811   6.724425   6.794160   8.871007   4.509827   \n",
       "75%    48.250000   7.960393   6.929274   7.888134   9.023418   4.567569   \n",
       "max    64.000000   8.167701   7.962858  11.816433   9.458264   4.754915   \n",
       "\n",
       "         1294_at    1316_at    1320_at  1405_i_at  ...  \\\n",
       "count  64.000000  64.000000  64.000000  64.000000  ...   \n",
       "mean    8.282604   5.544487   4.710160   6.679214  ...   \n",
       "std     0.408621   0.140410   0.135293   1.583527  ...   \n",
       "min     7.331400   5.295685   4.352735   4.543998  ...   \n",
       "25%     8.015841   5.454499   4.623445   5.211335  ...   \n",
       "50%     8.230027   5.547004   4.674101   6.532190  ...   \n",
       "75%     8.515215   5.605790   4.789000   8.278395  ...   \n",
       "max     9.595609   5.977147   5.193624   9.985429  ...   \n",
       "\n",
       "       AFFX-r2-Hs28SrRNA-5_at  AFFX-r2-Hs28SrRNA-M_at  AFFX-r2-P1-cre-3_at  \\\n",
       "count               64.000000               64.000000            64.000000   \n",
       "mean                 4.836931                6.612299            13.018089   \n",
       "std                  0.287327                0.315608             0.319913   \n",
       "min                  4.250235                5.746084            12.283312   \n",
       "25%                  4.622061                6.407176            12.796575   \n",
       "50%                  4.879685                6.596552            12.992452   \n",
       "75%                  5.060132                6.826579            13.248937   \n",
       "max                  5.457926                7.252390            13.863304   \n",
       "\n",
       "       AFFX-r2-P1-cre-5_at  AFFX-ThrX-3_at  AFFX-ThrX-5_at  AFFX-ThrX-M_at  \\\n",
       "count            64.000000       64.000000       64.000000       64.000000   \n",
       "mean             12.864839        5.308956        4.584877        3.943064   \n",
       "std               0.316175        0.126512        0.107208        0.088848   \n",
       "min              12.170986        5.037287        4.401563        3.803410   \n",
       "25%              12.655307        5.231369        4.518736        3.883592   \n",
       "50%              12.827850        5.281801        4.572218        3.931645   \n",
       "75%              13.060069        5.392658        4.626728        3.992335   \n",
       "max              13.704673        5.732145        5.047613        4.188348   \n",
       "\n",
       "       AFFX-TrpnX-3_at  AFFX-TrpnX-5_at  AFFX-TrpnX-M_at  \n",
       "count        64.000000        64.000000        64.000000  \n",
       "mean          3.637447         4.141114         4.116237  \n",
       "std           0.070432         0.078673         0.107609  \n",
       "min           3.517559         4.002604         3.910150  \n",
       "25%           3.592435         4.095459         4.058131  \n",
       "50%           3.635070         4.133191         4.103236  \n",
       "75%           3.665841         4.176025         4.159044  \n",
       "max           3.951433         4.403250         4.556003  \n",
       "\n",
       "[8 rows x 22284 columns]"
      ]
     },
     "execution_count": 18,
     "metadata": {},
     "output_type": "execute_result"
    }
   ],
   "source": [
    "df.describe()"
   ]
  },
  {
   "cell_type": "markdown",
   "id": "477ee7a7",
   "metadata": {},
   "source": [
    "Examining correlations of features:"
   ]
  },
  {
   "cell_type": "code",
   "execution_count": 19,
   "id": "f8b6a415",
   "metadata": {},
   "outputs": [
    {
     "data": {
      "text/html": [
       "<div>\n",
       "<style scoped>\n",
       "    .dataframe tbody tr th:only-of-type {\n",
       "        vertical-align: middle;\n",
       "    }\n",
       "\n",
       "    .dataframe tbody tr th {\n",
       "        vertical-align: top;\n",
       "    }\n",
       "\n",
       "    .dataframe thead th {\n",
       "        text-align: right;\n",
       "    }\n",
       "</style>\n",
       "<table border=\"1\" class=\"dataframe\">\n",
       "  <thead>\n",
       "    <tr style=\"text-align: right;\">\n",
       "      <th></th>\n",
       "      <th>samples</th>\n",
       "      <th>1007_s_at</th>\n",
       "      <th>1053_at</th>\n",
       "      <th>117_at</th>\n",
       "      <th>121_at</th>\n",
       "      <th>1255_g_at</th>\n",
       "      <th>1294_at</th>\n",
       "      <th>1316_at</th>\n",
       "      <th>1320_at</th>\n",
       "      <th>1405_i_at</th>\n",
       "      <th>...</th>\n",
       "      <th>AFFX-r2-Hs28SrRNA-5_at</th>\n",
       "      <th>AFFX-r2-Hs28SrRNA-M_at</th>\n",
       "      <th>AFFX-r2-P1-cre-3_at</th>\n",
       "      <th>AFFX-r2-P1-cre-5_at</th>\n",
       "      <th>AFFX-ThrX-3_at</th>\n",
       "      <th>AFFX-ThrX-5_at</th>\n",
       "      <th>AFFX-ThrX-M_at</th>\n",
       "      <th>AFFX-TrpnX-3_at</th>\n",
       "      <th>AFFX-TrpnX-5_at</th>\n",
       "      <th>AFFX-TrpnX-M_at</th>\n",
       "    </tr>\n",
       "  </thead>\n",
       "  <tbody>\n",
       "    <tr>\n",
       "      <th>samples</th>\n",
       "      <td>1.000000</td>\n",
       "      <td>-0.017390</td>\n",
       "      <td>-0.287458</td>\n",
       "      <td>0.039076</td>\n",
       "      <td>-0.191798</td>\n",
       "      <td>-0.165766</td>\n",
       "      <td>0.537481</td>\n",
       "      <td>-0.061006</td>\n",
       "      <td>-0.084213</td>\n",
       "      <td>-0.132612</td>\n",
       "      <td>...</td>\n",
       "      <td>-0.078098</td>\n",
       "      <td>-0.081497</td>\n",
       "      <td>0.110404</td>\n",
       "      <td>-0.012257</td>\n",
       "      <td>-0.003225</td>\n",
       "      <td>0.028186</td>\n",
       "      <td>0.059597</td>\n",
       "      <td>0.081975</td>\n",
       "      <td>0.057624</td>\n",
       "      <td>0.047899</td>\n",
       "    </tr>\n",
       "    <tr>\n",
       "      <th>1007_s_at</th>\n",
       "      <td>-0.017390</td>\n",
       "      <td>1.000000</td>\n",
       "      <td>-0.211397</td>\n",
       "      <td>0.048428</td>\n",
       "      <td>0.550651</td>\n",
       "      <td>0.532581</td>\n",
       "      <td>-0.187816</td>\n",
       "      <td>0.605351</td>\n",
       "      <td>0.341193</td>\n",
       "      <td>-0.252403</td>\n",
       "      <td>...</td>\n",
       "      <td>-0.080921</td>\n",
       "      <td>0.155385</td>\n",
       "      <td>0.222091</td>\n",
       "      <td>0.167597</td>\n",
       "      <td>0.289463</td>\n",
       "      <td>0.292311</td>\n",
       "      <td>0.439695</td>\n",
       "      <td>-0.057682</td>\n",
       "      <td>0.325661</td>\n",
       "      <td>0.143748</td>\n",
       "    </tr>\n",
       "    <tr>\n",
       "      <th>1053_at</th>\n",
       "      <td>-0.287458</td>\n",
       "      <td>-0.211397</td>\n",
       "      <td>1.000000</td>\n",
       "      <td>0.052046</td>\n",
       "      <td>-0.019107</td>\n",
       "      <td>-0.092464</td>\n",
       "      <td>0.004193</td>\n",
       "      <td>-0.211481</td>\n",
       "      <td>0.091480</td>\n",
       "      <td>-0.458993</td>\n",
       "      <td>...</td>\n",
       "      <td>-0.048166</td>\n",
       "      <td>-0.087241</td>\n",
       "      <td>-0.487970</td>\n",
       "      <td>-0.428705</td>\n",
       "      <td>-0.052843</td>\n",
       "      <td>0.200258</td>\n",
       "      <td>-0.078766</td>\n",
       "      <td>0.147081</td>\n",
       "      <td>-0.008098</td>\n",
       "      <td>-0.033567</td>\n",
       "    </tr>\n",
       "    <tr>\n",
       "      <th>117_at</th>\n",
       "      <td>0.039076</td>\n",
       "      <td>0.048428</td>\n",
       "      <td>0.052046</td>\n",
       "      <td>1.000000</td>\n",
       "      <td>-0.087912</td>\n",
       "      <td>0.139514</td>\n",
       "      <td>-0.156873</td>\n",
       "      <td>0.129338</td>\n",
       "      <td>0.022923</td>\n",
       "      <td>0.130044</td>\n",
       "      <td>...</td>\n",
       "      <td>-0.338409</td>\n",
       "      <td>-0.301180</td>\n",
       "      <td>0.060726</td>\n",
       "      <td>0.005112</td>\n",
       "      <td>0.026430</td>\n",
       "      <td>0.079387</td>\n",
       "      <td>0.145894</td>\n",
       "      <td>0.220985</td>\n",
       "      <td>0.296642</td>\n",
       "      <td>-0.154258</td>\n",
       "    </tr>\n",
       "    <tr>\n",
       "      <th>121_at</th>\n",
       "      <td>-0.191798</td>\n",
       "      <td>0.550651</td>\n",
       "      <td>-0.019107</td>\n",
       "      <td>-0.087912</td>\n",
       "      <td>1.000000</td>\n",
       "      <td>0.675123</td>\n",
       "      <td>-0.093813</td>\n",
       "      <td>0.597030</td>\n",
       "      <td>0.578764</td>\n",
       "      <td>-0.411777</td>\n",
       "      <td>...</td>\n",
       "      <td>-0.086058</td>\n",
       "      <td>-0.010736</td>\n",
       "      <td>0.339046</td>\n",
       "      <td>0.281559</td>\n",
       "      <td>0.161784</td>\n",
       "      <td>0.276980</td>\n",
       "      <td>0.345575</td>\n",
       "      <td>-0.070180</td>\n",
       "      <td>0.136449</td>\n",
       "      <td>0.201180</td>\n",
       "    </tr>\n",
       "    <tr>\n",
       "      <th>...</th>\n",
       "      <td>...</td>\n",
       "      <td>...</td>\n",
       "      <td>...</td>\n",
       "      <td>...</td>\n",
       "      <td>...</td>\n",
       "      <td>...</td>\n",
       "      <td>...</td>\n",
       "      <td>...</td>\n",
       "      <td>...</td>\n",
       "      <td>...</td>\n",
       "      <td>...</td>\n",
       "      <td>...</td>\n",
       "      <td>...</td>\n",
       "      <td>...</td>\n",
       "      <td>...</td>\n",
       "      <td>...</td>\n",
       "      <td>...</td>\n",
       "      <td>...</td>\n",
       "      <td>...</td>\n",
       "      <td>...</td>\n",
       "      <td>...</td>\n",
       "    </tr>\n",
       "    <tr>\n",
       "      <th>AFFX-ThrX-5_at</th>\n",
       "      <td>0.028186</td>\n",
       "      <td>0.292311</td>\n",
       "      <td>0.200258</td>\n",
       "      <td>0.079387</td>\n",
       "      <td>0.276980</td>\n",
       "      <td>0.383448</td>\n",
       "      <td>-0.043508</td>\n",
       "      <td>0.287937</td>\n",
       "      <td>0.594468</td>\n",
       "      <td>-0.415536</td>\n",
       "      <td>...</td>\n",
       "      <td>0.078288</td>\n",
       "      <td>0.134404</td>\n",
       "      <td>-0.261536</td>\n",
       "      <td>-0.341361</td>\n",
       "      <td>0.691461</td>\n",
       "      <td>1.000000</td>\n",
       "      <td>0.561026</td>\n",
       "      <td>0.180404</td>\n",
       "      <td>0.537593</td>\n",
       "      <td>0.362899</td>\n",
       "    </tr>\n",
       "    <tr>\n",
       "      <th>AFFX-ThrX-M_at</th>\n",
       "      <td>0.059597</td>\n",
       "      <td>0.439695</td>\n",
       "      <td>-0.078766</td>\n",
       "      <td>0.145894</td>\n",
       "      <td>0.345575</td>\n",
       "      <td>0.491586</td>\n",
       "      <td>-0.024158</td>\n",
       "      <td>0.430617</td>\n",
       "      <td>0.399421</td>\n",
       "      <td>-0.196411</td>\n",
       "      <td>...</td>\n",
       "      <td>0.037651</td>\n",
       "      <td>0.090839</td>\n",
       "      <td>0.008528</td>\n",
       "      <td>-0.050219</td>\n",
       "      <td>0.586092</td>\n",
       "      <td>0.561026</td>\n",
       "      <td>1.000000</td>\n",
       "      <td>0.251967</td>\n",
       "      <td>0.555626</td>\n",
       "      <td>0.319536</td>\n",
       "    </tr>\n",
       "    <tr>\n",
       "      <th>AFFX-TrpnX-3_at</th>\n",
       "      <td>0.081975</td>\n",
       "      <td>-0.057682</td>\n",
       "      <td>0.147081</td>\n",
       "      <td>0.220985</td>\n",
       "      <td>-0.070180</td>\n",
       "      <td>0.091681</td>\n",
       "      <td>0.252945</td>\n",
       "      <td>0.090273</td>\n",
       "      <td>0.145922</td>\n",
       "      <td>-0.162103</td>\n",
       "      <td>...</td>\n",
       "      <td>-0.038817</td>\n",
       "      <td>0.107107</td>\n",
       "      <td>0.051583</td>\n",
       "      <td>0.025466</td>\n",
       "      <td>0.141822</td>\n",
       "      <td>0.180404</td>\n",
       "      <td>0.251967</td>\n",
       "      <td>1.000000</td>\n",
       "      <td>0.461286</td>\n",
       "      <td>0.281160</td>\n",
       "    </tr>\n",
       "    <tr>\n",
       "      <th>AFFX-TrpnX-5_at</th>\n",
       "      <td>0.057624</td>\n",
       "      <td>0.325661</td>\n",
       "      <td>-0.008098</td>\n",
       "      <td>0.296642</td>\n",
       "      <td>0.136449</td>\n",
       "      <td>0.373795</td>\n",
       "      <td>-0.066720</td>\n",
       "      <td>0.297473</td>\n",
       "      <td>0.279630</td>\n",
       "      <td>-0.138261</td>\n",
       "      <td>...</td>\n",
       "      <td>-0.032490</td>\n",
       "      <td>0.162587</td>\n",
       "      <td>-0.089035</td>\n",
       "      <td>-0.190515</td>\n",
       "      <td>0.518652</td>\n",
       "      <td>0.537593</td>\n",
       "      <td>0.555626</td>\n",
       "      <td>0.461286</td>\n",
       "      <td>1.000000</td>\n",
       "      <td>0.559344</td>\n",
       "    </tr>\n",
       "    <tr>\n",
       "      <th>AFFX-TrpnX-M_at</th>\n",
       "      <td>0.047899</td>\n",
       "      <td>0.143748</td>\n",
       "      <td>-0.033567</td>\n",
       "      <td>-0.154258</td>\n",
       "      <td>0.201180</td>\n",
       "      <td>0.261514</td>\n",
       "      <td>-0.018366</td>\n",
       "      <td>0.186588</td>\n",
       "      <td>0.275288</td>\n",
       "      <td>-0.210204</td>\n",
       "      <td>...</td>\n",
       "      <td>-0.004476</td>\n",
       "      <td>0.140428</td>\n",
       "      <td>-0.060096</td>\n",
       "      <td>-0.190903</td>\n",
       "      <td>0.450037</td>\n",
       "      <td>0.362899</td>\n",
       "      <td>0.319536</td>\n",
       "      <td>0.281160</td>\n",
       "      <td>0.559344</td>\n",
       "      <td>1.000000</td>\n",
       "    </tr>\n",
       "  </tbody>\n",
       "</table>\n",
       "<p>22284 rows × 22284 columns</p>\n",
       "</div>"
      ],
      "text/plain": [
       "                  samples  1007_s_at   1053_at    117_at    121_at  1255_g_at  \\\n",
       "samples          1.000000  -0.017390 -0.287458  0.039076 -0.191798  -0.165766   \n",
       "1007_s_at       -0.017390   1.000000 -0.211397  0.048428  0.550651   0.532581   \n",
       "1053_at         -0.287458  -0.211397  1.000000  0.052046 -0.019107  -0.092464   \n",
       "117_at           0.039076   0.048428  0.052046  1.000000 -0.087912   0.139514   \n",
       "121_at          -0.191798   0.550651 -0.019107 -0.087912  1.000000   0.675123   \n",
       "...                   ...        ...       ...       ...       ...        ...   \n",
       "AFFX-ThrX-5_at   0.028186   0.292311  0.200258  0.079387  0.276980   0.383448   \n",
       "AFFX-ThrX-M_at   0.059597   0.439695 -0.078766  0.145894  0.345575   0.491586   \n",
       "AFFX-TrpnX-3_at  0.081975  -0.057682  0.147081  0.220985 -0.070180   0.091681   \n",
       "AFFX-TrpnX-5_at  0.057624   0.325661 -0.008098  0.296642  0.136449   0.373795   \n",
       "AFFX-TrpnX-M_at  0.047899   0.143748 -0.033567 -0.154258  0.201180   0.261514   \n",
       "\n",
       "                  1294_at   1316_at   1320_at  1405_i_at  ...  \\\n",
       "samples          0.537481 -0.061006 -0.084213  -0.132612  ...   \n",
       "1007_s_at       -0.187816  0.605351  0.341193  -0.252403  ...   \n",
       "1053_at          0.004193 -0.211481  0.091480  -0.458993  ...   \n",
       "117_at          -0.156873  0.129338  0.022923   0.130044  ...   \n",
       "121_at          -0.093813  0.597030  0.578764  -0.411777  ...   \n",
       "...                   ...       ...       ...        ...  ...   \n",
       "AFFX-ThrX-5_at  -0.043508  0.287937  0.594468  -0.415536  ...   \n",
       "AFFX-ThrX-M_at  -0.024158  0.430617  0.399421  -0.196411  ...   \n",
       "AFFX-TrpnX-3_at  0.252945  0.090273  0.145922  -0.162103  ...   \n",
       "AFFX-TrpnX-5_at -0.066720  0.297473  0.279630  -0.138261  ...   \n",
       "AFFX-TrpnX-M_at -0.018366  0.186588  0.275288  -0.210204  ...   \n",
       "\n",
       "                 AFFX-r2-Hs28SrRNA-5_at  AFFX-r2-Hs28SrRNA-M_at  \\\n",
       "samples                       -0.078098               -0.081497   \n",
       "1007_s_at                     -0.080921                0.155385   \n",
       "1053_at                       -0.048166               -0.087241   \n",
       "117_at                        -0.338409               -0.301180   \n",
       "121_at                        -0.086058               -0.010736   \n",
       "...                                 ...                     ...   \n",
       "AFFX-ThrX-5_at                 0.078288                0.134404   \n",
       "AFFX-ThrX-M_at                 0.037651                0.090839   \n",
       "AFFX-TrpnX-3_at               -0.038817                0.107107   \n",
       "AFFX-TrpnX-5_at               -0.032490                0.162587   \n",
       "AFFX-TrpnX-M_at               -0.004476                0.140428   \n",
       "\n",
       "                 AFFX-r2-P1-cre-3_at  AFFX-r2-P1-cre-5_at  AFFX-ThrX-3_at  \\\n",
       "samples                     0.110404            -0.012257       -0.003225   \n",
       "1007_s_at                   0.222091             0.167597        0.289463   \n",
       "1053_at                    -0.487970            -0.428705       -0.052843   \n",
       "117_at                      0.060726             0.005112        0.026430   \n",
       "121_at                      0.339046             0.281559        0.161784   \n",
       "...                              ...                  ...             ...   \n",
       "AFFX-ThrX-5_at             -0.261536            -0.341361        0.691461   \n",
       "AFFX-ThrX-M_at              0.008528            -0.050219        0.586092   \n",
       "AFFX-TrpnX-3_at             0.051583             0.025466        0.141822   \n",
       "AFFX-TrpnX-5_at            -0.089035            -0.190515        0.518652   \n",
       "AFFX-TrpnX-M_at            -0.060096            -0.190903        0.450037   \n",
       "\n",
       "                 AFFX-ThrX-5_at  AFFX-ThrX-M_at  AFFX-TrpnX-3_at  \\\n",
       "samples                0.028186        0.059597         0.081975   \n",
       "1007_s_at              0.292311        0.439695        -0.057682   \n",
       "1053_at                0.200258       -0.078766         0.147081   \n",
       "117_at                 0.079387        0.145894         0.220985   \n",
       "121_at                 0.276980        0.345575        -0.070180   \n",
       "...                         ...             ...              ...   \n",
       "AFFX-ThrX-5_at         1.000000        0.561026         0.180404   \n",
       "AFFX-ThrX-M_at         0.561026        1.000000         0.251967   \n",
       "AFFX-TrpnX-3_at        0.180404        0.251967         1.000000   \n",
       "AFFX-TrpnX-5_at        0.537593        0.555626         0.461286   \n",
       "AFFX-TrpnX-M_at        0.362899        0.319536         0.281160   \n",
       "\n",
       "                 AFFX-TrpnX-5_at  AFFX-TrpnX-M_at  \n",
       "samples                 0.057624         0.047899  \n",
       "1007_s_at               0.325661         0.143748  \n",
       "1053_at                -0.008098        -0.033567  \n",
       "117_at                  0.296642        -0.154258  \n",
       "121_at                  0.136449         0.201180  \n",
       "...                          ...              ...  \n",
       "AFFX-ThrX-5_at          0.537593         0.362899  \n",
       "AFFX-ThrX-M_at          0.555626         0.319536  \n",
       "AFFX-TrpnX-3_at         0.461286         0.281160  \n",
       "AFFX-TrpnX-5_at         1.000000         0.559344  \n",
       "AFFX-TrpnX-M_at         0.559344         1.000000  \n",
       "\n",
       "[22284 rows x 22284 columns]"
      ]
     },
     "execution_count": 19,
     "metadata": {},
     "output_type": "execute_result"
    }
   ],
   "source": [
    "df.corr()"
   ]
  },
  {
   "cell_type": "markdown",
   "id": "2b524d35",
   "metadata": {},
   "source": [
    "There are no null values in the dataset, so we don't need to form any extensive preprocessing beyond dealing with the multi-class output."
   ]
  },
  {
   "cell_type": "code",
   "execution_count": 42,
   "id": "eb8a7f4d",
   "metadata": {
    "scrolled": false
   },
   "outputs": [
    {
     "data": {
      "image/png": "[encoded data removed]",
      "text/plain": [
       "<Figure size 1440x576 with 2 Axes>"
      ]
     },
     "metadata": {
      "needs_background": "light"
     },
     "output_type": "display_data"
    }
   ],
   "source": [
    "bar_colors = ['#e6194b','#3cb44b','#ffe119','#0082c8', '#f58231']\n",
    "pie_colors = ['#ffe119','#f58231','#3cb44b','#0082c8', '#e6194b']\n",
    "\n",
    "fig, ax = plt.subplots(1,2,figsize=(20,8))\n",
    "_ = sns.countplot(x='type', data=df, palette=bar_colors, ax=ax[0])\n",
    "_ = df['type'].value_counts().plot.pie(colors=pie_colors, autopct=\"%1.1f%%\", ax=ax[1])"
   ]
  },
  {
   "cell_type": "markdown",
   "id": "16eceea7",
   "metadata": {},
   "source": [
    "This highlights the distribution of leukemia type in the output column."
   ]
  },
  {
   "cell_type": "markdown",
   "id": "fce54d3e",
   "metadata": {},
   "source": [
    "Now we need to separate our output from the features to train the various models."
   ]
  },
  {
   "cell_type": "code",
   "execution_count": 21,
   "id": "2b27fead",
   "metadata": {
    "scrolled": true
   },
   "outputs": [],
   "source": [
    "x = df.drop(columns=['samples','type'], axis=1)\n",
    "y = df['type']"
   ]
  },
  {
   "cell_type": "markdown",
   "id": "42917598",
   "metadata": {},
   "source": [
    "We will be using test_train_split to create train sets to fit our models and test sets to assess prediction accuracy. As we have 64 samples, a test size of 0.25 will result in 48 samples in the train set and 16 samples in the test set. The random state of 42 is convention for reproducible results."
   ]
  },
  {
   "cell_type": "code",
   "execution_count": 22,
   "id": "0e238292",
   "metadata": {},
   "outputs": [],
   "source": [
    "x_train, x_test, y_train, y_test = train_test_split(x, y, test_size=0.25, random_state = 42)"
   ]
  },
  {
   "cell_type": "markdown",
   "id": "62c7aa2a",
   "metadata": {},
   "source": [
    "## One vs. Rest Classification"
   ]
  },
  {
   "cell_type": "markdown",
   "id": "254d6e49",
   "metadata": {},
   "source": [
    "One vs. Rest (OvR) classification is a method of multi-class classification, in which a separate binary classifier is trained for each class in the dataset. The binary classifier is trained to predict whether an example belongs to the target class or not, and the class with the highest predicted probability is selected as the final prediction. We will be looking at two models using OvR: logistic regression and support vector classification."
   ]
  },
  {
   "cell_type": "markdown",
   "id": "2355c646",
   "metadata": {},
   "source": [
    "For linear models like logistic regression and support vector classifiers, it is generally recommended to standardize features."
   ]
  },
  {
   "cell_type": "code",
   "execution_count": 23,
   "id": "4cbe34ba",
   "metadata": {},
   "outputs": [],
   "source": [
    "# Standardizing features\n",
    "scaler = preprocessing.MinMaxScaler()\n",
    "x_train = scaler.fit_transform(x_train)\n",
    "x_test = scaler.fit_transform(x_test)"
   ]
  },
  {
   "cell_type": "markdown",
   "id": "1325bf57",
   "metadata": {},
   "source": [
    "Before we begin, we will look at a dummy classifier, which is a baseline for accuracy (the accurracy one would achieve by guessing each time)."
   ]
  },
  {
   "cell_type": "code",
   "execution_count": 24,
   "id": "9f776e98",
   "metadata": {},
   "outputs": [
    {
     "name": "stdout",
     "output_type": "stream",
     "text": [
      "The expected success rate from guessing is 25.0%\n"
     ]
    }
   ],
   "source": [
    "# Dummy classifier (expected baseline accuracy)\n",
    "dummy_clf = DummyClassifier(strategy=\"stratified\")\n",
    "dummy_clf.fit(x_train, y_train)\n",
    "DummyClassifier(strategy='stratified')\n",
    "dummy_clf.predict(x_test)\n",
    "dummy_score = dummy_clf.score(x_test, y_test)\n",
    "print(\"The expected success rate from guessing is\", str(dummy_score*100) + '%')"
   ]
  },
  {
   "cell_type": "markdown",
   "id": "65457d17",
   "metadata": {},
   "source": [
    "### Logistic Regression"
   ]
  },
  {
   "cell_type": "code",
   "execution_count": 25,
   "id": "e54b3ecd",
   "metadata": {
    "scrolled": true
   },
   "outputs": [
    {
     "name": "stdout",
     "output_type": "stream",
     "text": [
      "Logistic Regression Confusion Matrix:\n",
      "                  AML  Bone_Marrow  Bone_Marrow_CD34  PB  PBSC_CD34\n",
      "AML                 3            0                 0   0          1\n",
      "Bone_Marrow         0            4                 0   0          0\n",
      "Bone_Marrow_CD34    0            0                 2   0          0\n",
      "PB                  0            0                 0   3          0\n",
      "PBSC_CD34           0            0                 0   0          3\n",
      "\n",
      "\n",
      "Accuracy of Logistic Regression: 93.75%\n"
     ]
    }
   ],
   "source": [
    "from sklearn.metrics import precision_recall_curve\n",
    "model = LogisticRegression(max_iter=10000, multi_class='ovr')\n",
    "model.fit(x_train, y_train)\n",
    "y_pred = model.predict(x_test)\n",
    "conf_matrix = confusion_matrix(y_test, y_pred)\n",
    "conf_matrix = pd.DataFrame(conf_matrix, index=model.classes_, columns=model.classes_)\n",
    "acc_score_lr = accuracy_score(y_test, y_pred)\n",
    "print(\"Logistic Regression Confusion Matrix:\")\n",
    "print(conf_matrix)\n",
    "print('\\n')\n",
    "print(\"Accuracy of Logistic Regression:\", str(acc_score_lr*100) + '%')"
   ]
  },
  {
   "cell_type": "markdown",
   "id": "f557f8fc",
   "metadata": {},
   "source": [
    "### Support Vector Classifier"
   ]
  },
  {
   "cell_type": "code",
   "execution_count": 26,
   "id": "8f59b466",
   "metadata": {},
   "outputs": [
    {
     "name": "stdout",
     "output_type": "stream",
     "text": [
      "Support Vector Classifier Confusion Matrix:\n",
      "                  AML  Bone_Marrow  Bone_Marrow_CD34  PB  PBSC_CD34\n",
      "AML                 4            0                 0   0          0\n",
      "Bone_Marrow         0            4                 0   0          0\n",
      "Bone_Marrow_CD34    0            0                 2   0          0\n",
      "PB                  0            0                 0   3          0\n",
      "PBSC_CD34           2            0                 0   0          1\n",
      "\n",
      "\n",
      "Accuracy of Support Vector Classifier: 87.5%\n"
     ]
    }
   ],
   "source": [
    "svc = SVC()\n",
    "model = OneVsRestClassifier(svc)\n",
    "model.fit(x_train, y_train)\n",
    "y_pred = model.predict(x_test)\n",
    "conf_matrix = confusion_matrix(y_test, y_pred)\n",
    "conf_matrix = pd.DataFrame(conf_matrix, index=model.classes_, columns=model.classes_)\n",
    "acc_score_svc = accuracy_score(y_test, y_pred)\n",
    "print(\"Support Vector Classifier Confusion Matrix:\")\n",
    "print(conf_matrix)\n",
    "print('\\n')\n",
    "print(\"Accuracy of Support Vector Classifier:\", str(acc_score_svc*100) + '%')"
   ]
  },
  {
   "cell_type": "markdown",
   "id": "b2d49e5c",
   "metadata": {},
   "source": [
    "## One-Hot Encoding"
   ]
  },
  {
   "cell_type": "markdown",
   "id": "6da67b77",
   "metadata": {},
   "source": [
    "One-hot encoding is a method used to convert multi-class categorical data into a numerical representation that can be used by machine learning algorithms. In one-hot encoding, each category is represented by multiple columns, with a \"1\" in the column corresponding to the category and \"0\" in all other columns. We will be looking at two models using one-hot encoding: k-nearest neighbors and multinomial naive Bayes. Additionally, we will scale the data. It is not neccessary for these methods, but sometimes useful as they are sensitive to scale. In python, we can perform one-hot encoding with pd.get_dummies()."
   ]
  },
  {
   "cell_type": "code",
   "execution_count": 27,
   "id": "12887cff",
   "metadata": {
    "scrolled": true
   },
   "outputs": [],
   "source": [
    "x = df.drop(columns=['samples','type'], axis=1)\n",
    "y = pd.get_dummies(df['type'])\n",
    "\n",
    "x_train, x_test, y_train, y_test = train_test_split(x, y, test_size=0.25, random_state = 42)\n",
    "\n",
    "scaler = preprocessing.MinMaxScaler()\n",
    "x_train = scaler.fit_transform(x_train)\n",
    "x_test = scaler.fit_transform(x_test)\n",
    "\n",
    "original_labels = df['type'].astype('category').cat.categories # will be used for labels"
   ]
  },
  {
   "cell_type": "markdown",
   "id": "61a045eb",
   "metadata": {},
   "source": [
    "The k value in k-nearest neighbors determines the number of clusters. One rule of thumb is to use square root of n. After testing different values, k=2 seems to work best."
   ]
  },
  {
   "cell_type": "markdown",
   "id": "83bae6c0",
   "metadata": {},
   "source": [
    "### K-Nearest Neighbors"
   ]
  },
  {
   "cell_type": "code",
   "execution_count": 28,
   "id": "04521889",
   "metadata": {},
   "outputs": [
    {
     "name": "stdout",
     "output_type": "stream",
     "text": [
      "K-Nearest Neighbors Confusion Matrix:\n",
      "                  AML  Bone_Marrow  Bone_Marrow_CD34  PB  PBSC_CD34\n",
      "AML                 3            0                 0   0          1\n",
      "Bone_Marrow         0            4                 0   0          0\n",
      "Bone_Marrow_CD34    0            0                 2   0          0\n",
      "PB                  0            0                 0   3          0\n",
      "PBSC_CD34           0            0                 0   0          3\n",
      "\n",
      "\n",
      "Accuracy of K-Nearest Neighbors: 93.75%\n"
     ]
    }
   ],
   "source": [
    "model = KNeighborsClassifier(n_neighbors=2)\n",
    "model.fit(x_train, y_train)\n",
    "y_pred = model.predict(x_test)\n",
    "conf_matrix = confusion_matrix(y_test.values.argmax(axis=1), y_pred.argmax(axis=1))\n",
    "conf_matrix = pd.DataFrame(conf_matrix, index=original_labels, columns=original_labels)\n",
    "acc_score_k = accuracy_score(y_test, y_pred)\n",
    "print(\"K-Nearest Neighbors Confusion Matrix:\")\n",
    "print(conf_matrix)\n",
    "print('\\n')\n",
    "print(\"Accuracy of K-Nearest Neighbors:\", str(acc_score_k*100) + '%')"
   ]
  },
  {
   "cell_type": "markdown",
   "id": "d8a16f2c",
   "metadata": {},
   "source": [
    "We need to slightly adjust the output for multinomial naive bayes."
   ]
  },
  {
   "cell_type": "markdown",
   "id": "e9126ba8",
   "metadata": {},
   "source": [
    "### Naive Bayes"
   ]
  },
  {
   "cell_type": "code",
   "execution_count": 29,
   "id": "dee0ead2",
   "metadata": {
    "scrolled": true
   },
   "outputs": [
    {
     "name": "stdout",
     "output_type": "stream",
     "text": [
      "Naive Bayes Confusion Matrix:\n",
      "                  AML  Bone_Marrow  Bone_Marrow_CD34  PB  PBSC_CD34\n",
      "AML                 3            0                 0   0          1\n",
      "Bone_Marrow         0            4                 0   0          0\n",
      "Bone_Marrow_CD34    0            0                 2   0          0\n",
      "PB                  0            0                 0   3          0\n",
      "PBSC_CD34           0            0                 0   0          3\n",
      "\n",
      "\n",
      "Accuracy of Naive Bayes: 93.75%\n"
     ]
    }
   ],
   "source": [
    "y = where(y==1)[1]\n",
    "x_train, x_test, y_train, y_test = train_test_split(x, y, test_size=0.25, random_state = 42)\n",
    "\n",
    "\n",
    "model = MultinomialNB()\n",
    "model.fit(x_train, y_train)\n",
    "y_pred = model.predict(x_test)\n",
    "conf_matrix = confusion_matrix(y_test, y_pred)\n",
    "conf_matrix = pd.DataFrame(conf_matrix, index=original_labels, columns=original_labels)\n",
    "acc_score_nb = accuracy_score(y_test, y_pred)\n",
    "print(\"Naive Bayes Confusion Matrix:\")\n",
    "print(conf_matrix)\n",
    "print('\\n')\n",
    "print(\"Accuracy of Naive Bayes:\", str(acc_score_nb*100) + '%')"
   ]
  },
  {
   "cell_type": "markdown",
   "id": "0167694b",
   "metadata": {},
   "source": [
    "## Label Encoding"
   ]
  },
  {
   "cell_type": "markdown",
   "id": "31527874",
   "metadata": {},
   "source": [
    "Label encoding is a method for converting categorical data, represented as a string or an integer, to a numerical representation that can be used by machine learning algorithms. This is achieved by assigning a unique integer to each category or class in the data, so that each category or class can be represented by a single integer value. We will try label encoding with three tree based methods."
   ]
  },
  {
   "cell_type": "markdown",
   "id": "dfa509d6",
   "metadata": {},
   "source": [
    "Additionally, we will be examining the importance of each feature in these trees."
   ]
  },
  {
   "cell_type": "code",
   "execution_count": 30,
   "id": "54c74c0f",
   "metadata": {},
   "outputs": [],
   "source": [
    "encoder = LabelEncoder()\n",
    "x = df.drop(columns=['samples','type'], axis=1)\n",
    "y = df['type']\n",
    "y = encoder.fit_transform(df['type'])\n",
    "x_train, x_test, y_train, y_test = train_test_split(x, y, test_size=0.25, random_state = 42)\n",
    "\n",
    "original_labels = df['type'].astype('category').cat.categories # will be used for labels"
   ]
  },
  {
   "cell_type": "markdown",
   "id": "3fe73dd4",
   "metadata": {},
   "source": [
    "### Decision Tree"
   ]
  },
  {
   "cell_type": "code",
   "execution_count": 31,
   "id": "67d45eff",
   "metadata": {
    "scrolled": true
   },
   "outputs": [
    {
     "name": "stdout",
     "output_type": "stream",
     "text": [
      "Decision Tree Confusion Matrix:\n",
      "                  AML  Bone_Marrow  Bone_Marrow_CD34  PB  PBSC_CD34\n",
      "AML                 3            1                 0   0          0\n",
      "Bone_Marrow         0            4                 0   0          0\n",
      "Bone_Marrow_CD34    0            1                 1   0          0\n",
      "PB                  0            0                 0   3          0\n",
      "PBSC_CD34           0            0                 0   0          3\n",
      "\n",
      "\n",
      "Accuracy of Decision Tree: 87.5%\n"
     ]
    }
   ],
   "source": [
    "model = DecisionTreeClassifier()\n",
    "model.fit(x_train, y_train)\n",
    "y_pred = model.predict(x_test)\n",
    "conf_matrix = confusion_matrix(y_test, y_pred)\n",
    "conf_matrix = pd.DataFrame(conf_matrix, index=original_labels, columns=original_labels)\n",
    "acc_score_dtc = accuracy_score(y_test, y_pred)\n",
    "print(\"Decision Tree Confusion Matrix:\")\n",
    "print(conf_matrix)\n",
    "print('\\n')\n",
    "print(\"Accuracy of Decision Tree:\", str(acc_score_dtc*100) + '%')"
   ]
  },
  {
   "cell_type": "code",
   "execution_count": 32,
   "id": "fba6b3eb",
   "metadata": {},
   "outputs": [
    {
     "name": "stdout",
     "output_type": "stream",
     "text": [
      "Top Random Forest Features\n",
      "221268_s_at\n",
      "207426_s_at\n",
      "209281_s_at\n",
      "201199_s_at\n",
      "209527_at\n",
      "214651_s_at\n"
     ]
    }
   ],
   "source": [
    "sig_feats_dtc = [] #will hold significant features\n",
    "\n",
    "importances = model.feature_importances_\n",
    "indices = np.argsort(importances)[::-1]\n",
    "print(\"Top Random Forest Features\")\n",
    "\n",
    "for f in range(10):\n",
    "    if importances[indices[f]] > 0:\n",
    "        print(x.columns[indices[f]])\n",
    "        sig_feats_dtc.append(x.columns[indices[f]])"
   ]
  },
  {
   "cell_type": "markdown",
   "id": "19e7c0c6",
   "metadata": {},
   "source": [
    "## Random Forest "
   ]
  },
  {
   "cell_type": "code",
   "execution_count": 33,
   "id": "eb717a4d",
   "metadata": {},
   "outputs": [
    {
     "name": "stdout",
     "output_type": "stream",
     "text": [
      "Random Forest Confusion Matrix:\n",
      "                  AML  Bone_Marrow  Bone_Marrow_CD34  PB  PBSC_CD34\n",
      "AML                 4            0                 0   0          0\n",
      "Bone_Marrow         0            4                 0   0          0\n",
      "Bone_Marrow_CD34    0            0                 2   0          0\n",
      "PB                  0            0                 0   3          0\n",
      "PBSC_CD34           0            0                 0   0          3\n",
      "\n",
      "\n",
      "Accuracy of Random Forest: 100.0%\n"
     ]
    }
   ],
   "source": [
    "model = RandomForestClassifier()\n",
    "model.fit(x_train, y_train)\n",
    "y_pred = model.predict(x_test)\n",
    "conf_matrix = confusion_matrix(y_test, y_pred)\n",
    "conf_matrix = pd.DataFrame(conf_matrix, index=original_labels, columns=original_labels)\n",
    "acc_score_rfc = accuracy_score(y_test, y_pred)\n",
    "print(\"Random Forest Confusion Matrix:\")\n",
    "print(conf_matrix)\n",
    "print('\\n')\n",
    "print(\"Accuracy of Random Forest:\", str(acc_score_rfc*100) + '%')"
   ]
  },
  {
   "cell_type": "code",
   "execution_count": 34,
   "id": "5d8e774f",
   "metadata": {},
   "outputs": [
    {
     "name": "stdout",
     "output_type": "stream",
     "text": [
      "Top Random Forest Features\n",
      "215054_at\n",
      "221268_s_at\n",
      "201030_x_at\n",
      "210976_s_at\n",
      "208352_x_at\n",
      "208772_at\n",
      "218667_at\n",
      "206674_at\n",
      "219188_s_at\n",
      "221790_s_at\n"
     ]
    }
   ],
   "source": [
    "sig_feats_rfc = [] #will hold significant features\n",
    "\n",
    "importances = model.feature_importances_\n",
    "indices = np.argsort(importances)[::-1]\n",
    "print(\"Top Random Forest Features\")\n",
    "\n",
    "for f in range(10):\n",
    "    if importances[indices[f]] > 0:\n",
    "        print(x.columns[indices[f]])\n",
    "        sig_feats_rfc.append(x.columns[indices[f]])"
   ]
  },
  {
   "cell_type": "markdown",
   "id": "51fc8335",
   "metadata": {},
   "source": [
    "### XGBoost"
   ]
  },
  {
   "cell_type": "code",
   "execution_count": 35,
   "id": "f98f9172",
   "metadata": {
    "scrolled": true
   },
   "outputs": [
    {
     "name": "stdout",
     "output_type": "stream",
     "text": [
      "XGBoost Confusion Matrix:\n",
      "                  AML  Bone_Marrow  Bone_Marrow_CD34  PB  PBSC_CD34\n",
      "AML                 4            0                 0   0          0\n",
      "Bone_Marrow         0            4                 0   0          0\n",
      "Bone_Marrow_CD34    1            0                 1   0          0\n",
      "PB                  0            0                 0   3          0\n",
      "PBSC_CD34           0            0                 0   0          3\n",
      "\n",
      "\n",
      "Accuracy of XGBoost: 93.75%\n"
     ]
    }
   ],
   "source": [
    "model = XGBClassifier(use_label_encoder= False)\n",
    "model.fit(x_train, y_train)\n",
    "y_pred = model.predict(x_test)\n",
    "conf_matrix = confusion_matrix(y_test, y_pred)\n",
    "conf_matrix = pd.DataFrame(conf_matrix, index=original_labels, columns=original_labels)\n",
    "acc_score_xgb = accuracy_score(y_test, y_pred)\n",
    "print(\"XGBoost Confusion Matrix:\")\n",
    "print(conf_matrix)\n",
    "print('\\n')\n",
    "print(\"Accuracy of XGBoost:\", str(acc_score_xgb*100) + '%')"
   ]
  },
  {
   "cell_type": "code",
   "execution_count": 36,
   "id": "4c870ca0",
   "metadata": {
    "scrolled": true
   },
   "outputs": [
    {
     "name": "stdout",
     "output_type": "stream",
     "text": [
      "Top XGBoost Features\n",
      "221268_s_at\n",
      "201540_at\n",
      "200006_at\n",
      "202124_s_at\n",
      "200618_at\n",
      "203789_s_at\n",
      "209983_s_at\n",
      "209586_s_at\n",
      "1431_at\n",
      "215054_at\n"
     ]
    }
   ],
   "source": [
    "sig_feats_xgb = [] #will hold significant features\n",
    "\n",
    "importances = model.get_booster().get_score(importance_type=\"gain\")\n",
    "importances_sorted = sorted(importances.items(), key=lambda x: x[1], reverse=True)\n",
    "print(\"Top XGBoost Features\")\n",
    "\n",
    "for feature, importance in importances_sorted[:10]:\n",
    "    print(feature)\n",
    "    sig_feats_rfc.append(feature)"
   ]
  },
  {
   "cell_type": "markdown",
   "id": "41808ded",
   "metadata": {},
   "source": [
    "### Assessing Feature Importance in Tree-Based Models"
   ]
  },
  {
   "cell_type": "code",
   "execution_count": 37,
   "id": "6eb488f9",
   "metadata": {
    "scrolled": true
   },
   "outputs": [
    {
     "data": {
      "text/plain": [
       "221268_s_at    3\n",
       "215054_at      2\n",
       "218667_at      1\n",
       "206674_at      1\n",
       "209983_s_at    1\n",
       "209527_at      1\n",
       "208772_at      1\n",
       "200618_at      1\n",
       "219188_s_at    1\n",
       "1431_at        1\n",
       "201199_s_at    1\n",
       "209586_s_at    1\n",
       "209281_s_at    1\n",
       "208352_x_at    1\n",
       "202124_s_at    1\n",
       "200006_at      1\n",
       "207426_s_at    1\n",
       "201540_at      1\n",
       "210976_s_at    1\n",
       "203789_s_at    1\n",
       "201030_x_at    1\n",
       "214651_s_at    1\n",
       "221790_s_at    1\n",
       "dtype: int64"
      ]
     },
     "execution_count": 37,
     "metadata": {},
     "output_type": "execute_result"
    }
   ],
   "source": [
    "sig_feats = sig_feats_dtc + sig_feats_rfc + sig_feats_xgb\n",
    "pd.value_counts(sig_feats)"
   ]
  },
  {
   "cell_type": "markdown",
   "id": "8e1312bc",
   "metadata": {},
   "source": [
    "As we can see, the gene expression levels of 221268_s_at are weighted in multiple trees. This indicates that this feature is more predictive of leukemia type than other features in the dataset for tree-based methods."
   ]
  },
  {
   "cell_type": "markdown",
   "id": "c6e4a289",
   "metadata": {},
   "source": [
    "## Comparing Prediction Accuracies"
   ]
  },
  {
   "cell_type": "code",
   "execution_count": 38,
   "id": "7ef689a6",
   "metadata": {},
   "outputs": [
    {
     "data": {
      "text/html": [
       "<div>\n",
       "<style scoped>\n",
       "    .dataframe tbody tr th:only-of-type {\n",
       "        vertical-align: middle;\n",
       "    }\n",
       "\n",
       "    .dataframe tbody tr th {\n",
       "        vertical-align: top;\n",
       "    }\n",
       "\n",
       "    .dataframe thead th {\n",
       "        text-align: right;\n",
       "    }\n",
       "</style>\n",
       "<table border=\"1\" class=\"dataframe\">\n",
       "  <thead>\n",
       "    <tr style=\"text-align: right;\">\n",
       "      <th></th>\n",
       "      <th>Model</th>\n",
       "      <th>Accuracy</th>\n",
       "    </tr>\n",
       "  </thead>\n",
       "  <tbody>\n",
       "    <tr>\n",
       "      <th>0</th>\n",
       "      <td>Logistic Regression</td>\n",
       "      <td>93.75</td>\n",
       "    </tr>\n",
       "    <tr>\n",
       "      <th>1</th>\n",
       "      <td>Support Vector Classifier</td>\n",
       "      <td>87.50</td>\n",
       "    </tr>\n",
       "    <tr>\n",
       "      <th>2</th>\n",
       "      <td>K-Nearest Neighbors</td>\n",
       "      <td>93.75</td>\n",
       "    </tr>\n",
       "    <tr>\n",
       "      <th>3</th>\n",
       "      <td>Naive Bayes</td>\n",
       "      <td>93.75</td>\n",
       "    </tr>\n",
       "    <tr>\n",
       "      <th>4</th>\n",
       "      <td>Decision Tree</td>\n",
       "      <td>87.50</td>\n",
       "    </tr>\n",
       "    <tr>\n",
       "      <th>5</th>\n",
       "      <td>Random Forest</td>\n",
       "      <td>100.00</td>\n",
       "    </tr>\n",
       "    <tr>\n",
       "      <th>6</th>\n",
       "      <td>XGBoost</td>\n",
       "      <td>93.75</td>\n",
       "    </tr>\n",
       "  </tbody>\n",
       "</table>\n",
       "</div>"
      ],
      "text/plain": [
       "                       Model  Accuracy\n",
       "0        Logistic Regression     93.75\n",
       "1  Support Vector Classifier     87.50\n",
       "2        K-Nearest Neighbors     93.75\n",
       "3                Naive Bayes     93.75\n",
       "4              Decision Tree     87.50\n",
       "5              Random Forest    100.00\n",
       "6                    XGBoost     93.75"
      ]
     },
     "execution_count": 38,
     "metadata": {},
     "output_type": "execute_result"
    }
   ],
   "source": [
    "# Creating Dataframe of Model Accuracies\n",
    "acc = pd.DataFrame({'Model': ['Logistic Regression', 'Support Vector Classifier','K-Nearest Neighbors','Naive Bayes','Decision Tree','Random Forest','XGBoost'],\n",
    "                         'Accuracy': [acc_score_lr*100, acc_score_svc*100, acc_score_k*100,acc_score_nb*100, acc_score_dtc*100, acc_score_rfc*100, acc_score_xgb*100]})\n",
    "acc"
   ]
  },
  {
   "cell_type": "code",
   "execution_count": 39,
   "id": "63cb66cf",
   "metadata": {},
   "outputs": [
    {
     "data": {
      "image/png": "[encoded data removed]",
      "text/plain": [
       "<Figure size 1440x576 with 1 Axes>"
      ]
     },
     "metadata": {
      "needs_background": "light"
     },
     "output_type": "display_data"
    }
   ],
   "source": [
    "plt.figure(figsize=(20,8))\n",
    "\n",
    "colors = ['red','yellow','blue','orange','green','purple','grey',]\n",
    "plt.title(\"Accuracy of Multi-Class Classification Models\")\n",
    "plt.xlabel(\"Model\")\n",
    "plt.ylabel(\"Accuracy (%)\")\n",
    "plt.bar(acc['Model'], acc['Accuracy'],color = colors)\n",
    "plt.show()"
   ]
  }
 ],
 "metadata": {
  "kernelspec": {
   "display_name": "Python 3",
   "language": "python",
   "name": "python3"
  },
  "language_info": {
   "codemirror_mode": {
    "name": "ipython",
    "version": 3
   },
   "file_extension": ".py",
   "mimetype": "text/x-python",
   "name": "python",
   "nbconvert_exporter": "python",
   "pygments_lexer": "ipython3",
   "version": "3.8.8"
  }
 },
 "nbformat": 4,
 "nbformat_minor": 5
}
